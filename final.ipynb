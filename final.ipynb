{
  "nbformat": 4,
  "nbformat_minor": 0,
  "metadata": {
    "colab": {
      "name": "final.ipynb",
      "provenance": [],
      "mount_file_id": "1f87M5453xNiB7wktnoR57Xzjxv928fFm",
      "authorship_tag": "ABX9TyOg/7k52g/VyCiye0JuSeFq",
      "include_colab_link": true
    },
    "kernelspec": {
      "name": "python3",
      "display_name": "Python 3"
    },
    "language_info": {
      "name": "python"
    }
  },
  "cells": [
    {
      "cell_type": "markdown",
      "metadata": {
        "id": "view-in-github",
        "colab_type": "text"
      },
      "source": [
        "<a href=\"https://colab.research.google.com/github/Mucahityazici/hu-bby162-2021/blob/main/final.ipynb\" target=\"_parent\"><img src=\"https://colab.research.google.com/assets/colab-badge.svg\" alt=\"Open In Colab\"/></a>"
      ]
    },
    {
      "cell_type": "code",
      "metadata": {
        "colab": {
          "base_uri": "https://localhost:8080/"
        },
        "id": "YFyQCaVcSCBO",
        "outputId": "ae299d52-78f6-4481-eb74-1623e12b80c9"
      },
      "source": [
        "#Kütüphane Otomasyonu\n",
        "\n",
        "dosya = \"/content/drive/MyDrive/final.TXT\"\n",
        "\n",
        "#Yeni kaynak ekleme\n",
        "#def kaynaklariKaydet():\n",
        "eserAdi = input(\"Eser Adı: \")\n",
        "yazarAdi = input(\"Yazar: \")\n",
        "yayinEvi = input(\"Yayınevi: \")\n",
        "basimTarihi = input(\"Basım Tarihi: \")\n",
        "ISBN = input(\"ISBN no: \")\n",
        "\n",
        "dosyayiAc = open(dosya, 'a') # Mevcut veriye ek veri yazılması için parametre: 'a'\n",
        "dosyayiAc.write(eserAdi + \" , \" + yazarAdi + \" , \" + yayinEvi + \" , \" + basimTarihi + \" , \" + ISBN +\"\\n\")\n",
        "dosyayiAc.close()\n",
        "\n",
        "#Listeleme\n",
        "def eserListele():\n",
        "  dosyayiAc = open(dosya, \"r\")\n",
        "  for line in acilanDosya.readlines():\n",
        "    print(line)\n",
        "  dosyayiAc.close()"
      ],
      "execution_count": 13,
      "outputs": [
        {
          "output_type": "stream",
          "text": [
            "Eser Adı: Puslu Kıtalar Atlası\n",
            "Yazar: İhsan Oktay Anar\n",
            "Yayınevi: İletişim\n",
            "Basım Tarihi: 2016\n",
            "ISBN no: 472-975-432-081-27\n"
          ],
          "name": "stdout"
        }
      ]
    }
  ]
}